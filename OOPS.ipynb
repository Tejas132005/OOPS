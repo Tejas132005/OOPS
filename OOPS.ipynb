{
  "nbformat": 4,
  "nbformat_minor": 0,
  "metadata": {
    "colab": {
      "provenance": [],
      "name": "OOPS.ipynb",
      "toc_visible": true,
      "authorship_tag": "ABX9TyM/+O4JdVX56VYoRcjSu28i",
      "include_colab_link": true
    },
    "kernelspec": {
      "name": "python3",
      "display_name": "Python 3"
    },
    "language_info": {
      "name": "python"
    }
  },
  "cells": [
    {
      "cell_type": "markdown",
      "metadata": {
        "id": "view-in-github",
        "colab_type": "text"
      },
      "source": [
        "<a href=\"https://colab.research.google.com/github/Tejas132005/OOPS/blob/main/OOPS.ipynb\" target=\"_parent\"><img src=\"https://colab.research.google.com/assets/colab-badge.svg\" alt=\"Open In Colab\"/></a>"
      ]
    },
    {
      "cell_type": "code",
      "execution_count": null,
      "metadata": {
        "id": "AGT92H1Lwrxj"
      },
      "outputs": [],
      "source": [
        "# 1. What are the five key concepts of Object-Oriented Programming (OOP)?\n",
        "# Ans:\n",
        "# 1. Abstraction\n",
        "# 2. Inheritance\n",
        "# 3. Classes and Objects\n",
        "# 4. Polymorphism\n",
        "# 5. Encaptulation"
      ]
    },
    {
      "cell_type": "markdown",
      "source": [
        "# New Section"
      ],
      "metadata": {
        "id": "oACHK2LKWvsy"
      }
    },
    {
      "cell_type": "code",
      "source": [
        "# 2. Write a Python class for a `Car` with attributes for `make`, `model`, and `year`. Include a method to display\n",
        "#     the car's information.\n",
        "# Ans:\n",
        "class Car:\n",
        "  def __init__(self, make, model, year):\n",
        "    self.make = make\n",
        "    self.model = model\n",
        "    self.year = year\n",
        "\n",
        "  def details_name(self):\n",
        "    print(self.make)\n",
        "  def details(self):\n",
        "    print(self.model, self.year)\n",
        "\n",
        "car1 = Car(\"Land Rover\", \"Venom\", \"2000\")\n",
        "print(car1.details_name())\n",
        "print(car1.details())"
      ],
      "metadata": {
        "id": "oqvWS21Rw0su",
        "colab": {
          "base_uri": "https://localhost:8080/"
        },
        "outputId": "06a0b785-3e87-4986-f8dc-771880fef7d5"
      },
      "execution_count": null,
      "outputs": [
        {
          "output_type": "stream",
          "name": "stdout",
          "text": [
            "Land Rover\n",
            "None\n",
            "Venom 2000\n",
            "None\n"
          ]
        }
      ]
    },
    {
      "cell_type": "code",
      "source": [
        "# 3. Explain the difference between instance methods and class methods. Provide an example of each.\n",
        "# Ans:\n",
        "# * Instance methods can access both class and instance attributes, while class methods can only access class attributes.\n",
        "# * Instance methods are used to operate on or modify instance-specific data, while class methods are used to access class-specific data or implement \\\n",
        "#    factory methods.\n",
        "# Example Class method:\n",
        "class Student:\n",
        "  def __init__(self, name):\n",
        "    self.name = name\n",
        "\n",
        "  @classmethod\n",
        "  def student_details(cls,name):\n",
        "    return cls(name)\n",
        "obj1 = Student.student_details(\"Hello|\")\n",
        "obj1.name"
      ],
      "metadata": {
        "colab": {
          "base_uri": "https://localhost:8080/",
          "height": 35
        },
        "id": "CII8cP5MtTXC",
        "outputId": "09a06357-a2b5-4222-c648-198656a417bd"
      },
      "execution_count": null,
      "outputs": [
        {
          "output_type": "execute_result",
          "data": {
            "text/plain": [
              "'Hello|'"
            ],
            "application/vnd.google.colaboratory.intrinsic+json": {
              "type": "string"
            }
          },
          "metadata": {},
          "execution_count": 11
        }
      ]
    },
    {
      "cell_type": "code",
      "source": [
        "# Example instance method:\n",
        "class MyDetails:\n",
        "  def __init__(self, name, age):\n",
        "    self.name = name\n",
        "    self.age = age\n",
        "\n",
        "  def introduce(self):\n",
        "    return f\"Hi, I'm {self.name}, my age is {self.age}.\"\n",
        "\n",
        "MD = MyDetails(\"Tejas\", 20)\n",
        "MD.introduce()"
      ],
      "metadata": {
        "colab": {
          "base_uri": "https://localhost:8080/",
          "height": 35
        },
        "id": "DdvpfHK6vwkc",
        "outputId": "f6bb1968-991c-4142-a40d-90b01ca188f0"
      },
      "execution_count": null,
      "outputs": [
        {
          "output_type": "execute_result",
          "data": {
            "text/plain": [
              "\"Hi, I'm Tejas, my age is 20.\""
            ],
            "application/vnd.google.colaboratory.intrinsic+json": {
              "type": "string"
            }
          },
          "metadata": {},
          "execution_count": 13
        }
      ]
    },
    {
      "cell_type": "code",
      "source": [
        "# 4. How does Python implement method overloading? Give an example.\n",
        "# Ans:\n",
        "# If you define multiple methods with the same name in a class, the last one defined will override any previous methods with the same name.\n",
        "class Car:\n",
        "  def car_info(self):\n",
        "    print(\"My Car\")\n",
        "class Tata(Car):\n",
        "  def car_info(self):\n",
        "    print(\"Sub Branch 1\")\n",
        "  def tata_info(self):\n",
        "    print(\"Sub Branch 2\")\n",
        "\n",
        "obj = Tata()\n",
        "obj. tata_info()"
      ],
      "metadata": {
        "colab": {
          "base_uri": "https://localhost:8080/"
        },
        "id": "Qv42tq2g0kSS",
        "outputId": "fe5388af-0f8b-4e21-f373-cd3167bd4d71"
      },
      "execution_count": null,
      "outputs": [
        {
          "output_type": "stream",
          "name": "stdout",
          "text": [
            "Sub Branch 2\n"
          ]
        }
      ]
    },
    {
      "cell_type": "markdown",
      "source": [],
      "metadata": {
        "id": "xIh_n1UnUvjl"
      }
    },
    {
      "cell_type": "code",
      "source": [
        "# 5. What are the three types of access modifiers in Python? How are they denoted?\n",
        "# Ans:\n",
        "# The three types of access modifiers are public, private, protected\n",
        "\n",
        "# Public data memebers:\n",
        "self.name = name\n",
        "self.age = age\n",
        "# Public functions:\n",
        "def display(self):\n",
        "\n",
        "# Protected data memebers:\n",
        "_name = name\n",
        "_age = age\n",
        "# Protected funcions:\n",
        "def _display(self):\n",
        "\n",
        "# Private data memebers:\n",
        "__name = name\n",
        "__age = age\n",
        "# Private data members:\n",
        "def __display(self):"
      ],
      "metadata": {
        "id": "VzfJCOZp2O-e"
      },
      "execution_count": null,
      "outputs": []
    },
    {
      "cell_type": "code",
      "source": [
        "# 6. Describe the five types of inheritance in Python. Provide a simple example of multiple inheritance.\n",
        "# Ans:\n",
        "# 1. Single inheritance\n",
        "# 2. Multi_level inheritance\n",
        "# 3. Multi inhertiance\n",
        "# 4. Hierarchial inheritance\n",
        "# 5. Hybrid inheritance\n",
        "\n",
        "# Example:\n",
        "class Sports:\n",
        "  def Football(self):\n",
        "    print(\"Game has ball\")\n",
        "\n",
        "class Athletes:\n",
        "  def Messi(self):\n",
        "    print(\"Goat of Football\")\n",
        "\n",
        "class Ball(Sports, Athletes):\n",
        "  def game(self):\n",
        "    print(\"Both are Sports\")\n",
        "\n",
        "c1 = Ball()\n",
        "c1.game()\n",
        "c1.Football()\n",
        "c1.Messi()"
      ],
      "metadata": {
        "colab": {
          "base_uri": "https://localhost:8080/"
        },
        "id": "WbGeiSDAWy23",
        "outputId": "d40967f6-d551-4e6c-ce8e-ebf2f2200d3a"
      },
      "execution_count": null,
      "outputs": [
        {
          "output_type": "stream",
          "name": "stdout",
          "text": [
            "Both are Sports\n",
            "Game has ball\n",
            "Goat of Football\n"
          ]
        }
      ]
    },
    {
      "cell_type": "code",
      "source": [
        "# 7. What is the Method Resolution Order (MRO) in Python? How can you retrieve it programmatically?\n",
        "# Ans:\n",
        "# Method Resolution Order is the sequence in which Python looks for a method in a hierarchy of classes\n",
        "class A:\n",
        "  def a(self):\n",
        "    print(\"In Class A\")\n",
        "\n",
        "class B(A):\n",
        "  def b(self):\n",
        "    print(\"In Class B\")\n",
        "\n",
        "x = B()\n",
        "x.a()"
      ],
      "metadata": {
        "colab": {
          "base_uri": "https://localhost:8080/"
        },
        "id": "dFI9QkA_XBAZ",
        "outputId": "e99dd3aa-57c5-4895-ae8a-94b5dbba94d5"
      },
      "execution_count": null,
      "outputs": [
        {
          "output_type": "stream",
          "name": "stdout",
          "text": [
            "In Class A\n"
          ]
        }
      ]
    },
    {
      "cell_type": "code",
      "source": [
        "# 8. Create an abstract base class `Shape` with an abstract method `area()`. Then create two subclasses\n",
        "#     `Circle` and `Rectangle` that implement the `area()` method.\n",
        "# Ans:\n",
        "import abc\n",
        "class Shape:\n",
        "  @abc.abstractmethod\n",
        "  def calculate_area(self):\n",
        "    pass\n",
        "class Rectangle(Shape):\n",
        "  def calculate_area(self):\n",
        "    return \"Area of rectangle is len*brd\"\n",
        "class Circle(Shape):\n",
        "  def calculate_area(self):\n",
        "    return \"area of circle if pi*r**2\"\n",
        "\n",
        "rect = Rectangle()\n",
        "rect.calculate_area()"
      ],
      "metadata": {
        "colab": {
          "base_uri": "https://localhost:8080/",
          "height": 35
        },
        "id": "ccRiBCS_WzQS",
        "outputId": "9770a1d9-0e7b-4b49-a493-ccf122563f87"
      },
      "execution_count": null,
      "outputs": [
        {
          "output_type": "execute_result",
          "data": {
            "text/plain": [
              "'Area of rectangle is len*brd'"
            ],
            "application/vnd.google.colaboratory.intrinsic+json": {
              "type": "string"
            }
          },
          "metadata": {},
          "execution_count": 7
        }
      ]
    },
    {
      "cell_type": "code",
      "source": [
        "# 9. Demonstrate polymorphism by creating a function that can work with different shape objects to calculate\n",
        "#    and print their areas.\n",
        "# Ans:\n",
        "class Circle:\n",
        "  def area(self, r):\n",
        "    print((22/7)*r*r)\n",
        "class Rectangle:\n",
        "  def area(self,a):\n",
        "    print(a*(a+a))\n",
        "class Square:\n",
        "  def area(self, a):\n",
        "    print(a*a)\n",
        "\n",
        "o1 = Circle()\n",
        "o2 = Rectangle()\n",
        "o3 = Square()\n",
        "\n",
        "for x in (o1,o3,o2):\n",
        "  x.area(2)\n",
        "\n",
        "\n"
      ],
      "metadata": {
        "colab": {
          "base_uri": "https://localhost:8080/"
        },
        "id": "WqUO3nncWzTH",
        "outputId": "d373450f-cfd8-40d0-a957-4edd71417ab3"
      },
      "execution_count": null,
      "outputs": [
        {
          "output_type": "stream",
          "name": "stdout",
          "text": [
            "12.571428571428571\n",
            "4\n",
            "8\n"
          ]
        }
      ]
    },
    {
      "cell_type": "code",
      "source": [
        "# 10. Implement encapsulation in a `BankAccount` class with private attributes for `balance` and `account_number`.\n",
        "#      Include methods for deposit, withdrawal, and balance inquiry\n",
        "# Ans:\n",
        "class BankAccount:\n",
        "  def __init__(self,balance):\n",
        "    self.__balance = balance\n",
        "\n",
        "  def deposit(self,amount):\n",
        "    self.__balance += amount\n",
        "\n",
        "  def withdraw(self,amount):\n",
        "    if self.__balance >= amount:\n",
        "      self.__balance -= amount\n",
        "      return True\n",
        "\n",
        "    else:\n",
        "      return False\n",
        "\n",
        "  def get_balance(self):\n",
        "    return self.__balance\n",
        "\n",
        "acc1 = BankAccount(1000)\n",
        "acc1.get_balance()\n",
        "acc1.deposit(500)\n",
        "acc1.withdraw(200)\n",
        "acc1.get_balance()"
      ],
      "metadata": {
        "colab": {
          "base_uri": "https://localhost:8080/"
        },
        "id": "lKp2CDfKjBOC",
        "outputId": "2d650ee1-45cc-4aea-e0f2-e9e965fea610"
      },
      "execution_count": null,
      "outputs": [
        {
          "output_type": "execute_result",
          "data": {
            "text/plain": [
              "1300"
            ]
          },
          "metadata": {},
          "execution_count": 32
        }
      ]
    },
    {
      "cell_type": "code",
      "source": [
        "# 11. Write a class that overrides the `__str__` and `__add__` magic methods. What will these methods allow you to do?\n",
        "# Ans:\n",
        "class Magic:\n",
        "  def __init__(self, x,y):\n",
        "    self.x = x\n",
        "    self.y = y\n",
        "\n",
        "  def __add__(self, other):\n",
        "    return Magic(self.x+other.x , self.y+other.y)\n",
        "\n",
        "m1 = Magic(1,2)\n",
        "m2 = Magic(2,3)\n",
        "m =m1+m2\n",
        "print(m.x , m.y)\n"
      ],
      "metadata": {
        "colab": {
          "base_uri": "https://localhost:8080/"
        },
        "id": "AjEMJOcMlZlb",
        "outputId": "0e0ebf44-faa1-4bbe-a3d9-8c0d38119283"
      },
      "execution_count": null,
      "outputs": [
        {
          "output_type": "stream",
          "name": "stdout",
          "text": [
            "3 5\n"
          ]
        }
      ]
    },
    {
      "cell_type": "code",
      "source": [
        "class Magic:\n",
        "    def __init__(self, name,age):\n",
        "      self.name = name\n",
        "      self.age = age\n",
        "\n",
        "    def __str__(self):\n",
        "      return f\"My name is {self.name}, My age is {self.age}\"\n",
        "\n",
        "m = Magic(\"Cutie\", 20)\n",
        "m.__str__()"
      ],
      "metadata": {
        "colab": {
          "base_uri": "https://localhost:8080/",
          "height": 35
        },
        "id": "4HUudf0alZn3",
        "outputId": "0f03398c-5a3f-48cd-9a0e-0ef3ccb246d7"
      },
      "execution_count": null,
      "outputs": [
        {
          "output_type": "execute_result",
          "data": {
            "text/plain": [
              "'My name is Cutie, My age is 20'"
            ],
            "application/vnd.google.colaboratory.intrinsic+json": {
              "type": "string"
            }
          },
          "metadata": {},
          "execution_count": 39
        }
      ]
    },
    {
      "cell_type": "code",
      "source": [
        "# 12. Create a decorator that measures and prints the execution time of a function.\n",
        "# Ans:\n",
        "import time\n",
        "def timer_decorator(func):\n",
        "  def timer():\n",
        "    start = time.time()\n",
        "    func()\n",
        "    end = time.time()\n",
        "    print(\"The execution time is\", end-start)\n",
        "  return timer\n",
        "@timer_decorator\n",
        "def func_test():\n",
        "  print(11*1000)\n",
        "\n",
        "func_test()"
      ],
      "metadata": {
        "id": "AWsJTIPotT0C",
        "outputId": "de880267-7fa4-4559-d59e-0556d3919033",
        "colab": {
          "base_uri": "https://localhost:8080/"
        }
      },
      "execution_count": null,
      "outputs": [
        {
          "output_type": "stream",
          "name": "stdout",
          "text": [
            "11000\n",
            "The execution time is 0.001989126205444336\n"
          ]
        }
      ]
    },
    {
      "cell_type": "code",
      "source": [
        "# 13. Explain the concept of the Diamond Problem in multiple inheritance. How does Python resolve it?\n",
        "# Ans:\n",
        "# An ambiguity that arises when a class inherits from two or more classes that have one common superclass.\n",
        "class A:\n",
        "    def display(self):\n",
        "        print(\"Display method from class A\")\n",
        "\n",
        "class B(A):\n",
        "    def display(self):\n",
        "        print(\"Display method from class B\")\n",
        "\n",
        "class C(A):\n",
        "    def display(self):\n",
        "        print(\"Display method from class C\")\n",
        "\n",
        "class D(B, C):\n",
        "    pass\n",
        "\n",
        "d = D()\n",
        "d.display()\n",
        "\n",
        "# When a method is invoked in D that is defined in A, the ambiguity is whether it should be\n",
        "#  invoked from B or C."
      ],
      "metadata": {
        "id": "vjZQA42ewsVr",
        "colab": {
          "base_uri": "https://localhost:8080/"
        },
        "outputId": "2425151f-86fb-4528-88ad-adbb57b337be"
      },
      "execution_count": 1,
      "outputs": [
        {
          "output_type": "stream",
          "name": "stdout",
          "text": [
            "Display method from class B\n"
          ]
        }
      ]
    },
    {
      "cell_type": "code",
      "source": [
        "# 14. Write a class method that keeps track of the number of instances created from a class.\n",
        "# Ans:\n",
        "class Count:\n",
        "  c = 0\n",
        "  def __init__(self):\n",
        "    Count.c+=1\n",
        "\n",
        "c1 = Count()\n",
        "c2 = Count()\n",
        "c3 = Count()\n",
        "c4 = Count()\n",
        "print(Count.c)"
      ],
      "metadata": {
        "colab": {
          "base_uri": "https://localhost:8080/"
        },
        "id": "xWWGrOmUb9-H",
        "outputId": "95ce726e-4f1e-4eae-f746-21126df8a480"
      },
      "execution_count": 4,
      "outputs": [
        {
          "output_type": "stream",
          "name": "stdout",
          "text": [
            "4\n"
          ]
        }
      ]
    },
    {
      "cell_type": "code",
      "source": [
        "# 15. Implement a static method in a class that checks if a given year is a leap year.\n",
        "# Ans:\n",
        "class LeapYear:\n",
        "  @staticmethod\n",
        "  def find(ly):\n",
        "    if ly%4 == 0:\n",
        "      print(ly, \"is a leap year\")\n",
        "    else:\n",
        "      print(ly, \"Isnt leap year\")\n",
        "\n",
        "LeapYear.find(2004)"
      ],
      "metadata": {
        "colab": {
          "base_uri": "https://localhost:8080/"
        },
        "id": "FfO8y8BWeBom",
        "outputId": "fa784cd2-da28-4e8f-f56b-de04aac8ea9d"
      },
      "execution_count": 5,
      "outputs": [
        {
          "output_type": "stream",
          "name": "stdout",
          "text": [
            "2004 is a leap year\n"
          ]
        }
      ]
    },
    {
      "cell_type": "code",
      "source": [],
      "metadata": {
        "id": "g1asrYGSe4Fo"
      },
      "execution_count": null,
      "outputs": []
    }
  ]
}